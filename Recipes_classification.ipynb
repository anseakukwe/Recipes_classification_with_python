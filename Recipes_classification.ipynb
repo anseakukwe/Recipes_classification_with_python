{
 "cells": [
  {
   "cell_type": "markdown",
   "metadata": {},
   "source": [
    "## Installing and importing the relevant Libraries"
   ]
  },
  {
   "cell_type": "code",
   "execution_count": 1,
   "metadata": {
    "scrolled": true,
    "tags": []
   },
   "outputs": [],
   "source": [
    "import pandas as pd\n",
    "import numpy as np\n",
    "import pandas as pd\n",
    "from sklearn.model_selection import train_test_split\n",
    "import matplotlib.pyplot as plt\n",
    "import seaborn as sns\n",
    "from sklearn.preprocessing import StandardScaler\n",
    "from sklearn.linear_model import LogisticRegression\n",
    "from sklearn.ensemble import RandomForestClassifier\n",
    "from collections import Counter\n",
    "from imblearn.over_sampling import SMOTE\n",
    "from sklearn.model_selection import GridSearchCV\n",
    "from sklearn.metrics import confusion_matrix, accuracy_score, classification_report, plot_confusion_matrix, roc_curve, roc_auc_score\n",
    "pd.options.display.max_rows = 10"
   ]
  },
  {
   "cell_type": "markdown",
   "metadata": {
    "tags": []
   },
   "source": [
    "## Loading the data in our working environment"
   ]
  },
  {
   "cell_type": "code",
   "execution_count": 2,
   "metadata": {},
   "outputs": [],
   "source": [
    "data = pd.read_csv(\"recipes.csv\")"
   ]
  },
  {
   "cell_type": "markdown",
   "metadata": {},
   "source": [
    "## Exploring Contents of the data"
   ]
  },
  {
   "cell_type": "code",
   "execution_count": 3,
   "metadata": {},
   "outputs": [
    {
     "data": {
      "text/html": [
       "<div>\n",
       "<style scoped>\n",
       "    .dataframe tbody tr th:only-of-type {\n",
       "        vertical-align: middle;\n",
       "    }\n",
       "\n",
       "    .dataframe tbody tr th {\n",
       "        vertical-align: top;\n",
       "    }\n",
       "\n",
       "    .dataframe thead th {\n",
       "        text-align: right;\n",
       "    }\n",
       "</style>\n",
       "<table border=\"1\" class=\"dataframe\">\n",
       "  <thead>\n",
       "    <tr style=\"text-align: right;\">\n",
       "      <th></th>\n",
       "      <th>RecipeId</th>\n",
       "      <th>Name</th>\n",
       "      <th>RecipeCategory</th>\n",
       "      <th>Calories</th>\n",
       "      <th>CholesterolContent</th>\n",
       "      <th>CarbohydrateContent</th>\n",
       "      <th>SugarContent</th>\n",
       "      <th>ProteinContent</th>\n",
       "      <th>RecipeServings</th>\n",
       "      <th>HighScore</th>\n",
       "    </tr>\n",
       "  </thead>\n",
       "  <tbody>\n",
       "    <tr>\n",
       "      <th>0</th>\n",
       "      <td>46085</td>\n",
       "      <td>Crock Pot Baked Potato Soup</td>\n",
       "      <td>One Dish Meal</td>\n",
       "      <td>699.8</td>\n",
       "      <td>137.3</td>\n",
       "      <td>46.1</td>\n",
       "      <td>1.4</td>\n",
       "      <td>20.9</td>\n",
       "      <td>6.0</td>\n",
       "      <td>1.0</td>\n",
       "    </tr>\n",
       "    <tr>\n",
       "      <th>1</th>\n",
       "      <td>93832</td>\n",
       "      <td>Frittata Di Spaghetti (spaghetti Frittata)</td>\n",
       "      <td>Breakfast</td>\n",
       "      <td>297.1</td>\n",
       "      <td>191.8</td>\n",
       "      <td>11.7</td>\n",
       "      <td>0.7</td>\n",
       "      <td>12.2</td>\n",
       "      <td>8.0</td>\n",
       "      <td>1.0</td>\n",
       "    </tr>\n",
       "    <tr>\n",
       "      <th>2</th>\n",
       "      <td>36034</td>\n",
       "      <td>Berries With Italian Cream</td>\n",
       "      <td>Dessert</td>\n",
       "      <td>131.9</td>\n",
       "      <td>23.3</td>\n",
       "      <td>10.3</td>\n",
       "      <td>4.4</td>\n",
       "      <td>9.1</td>\n",
       "      <td>6.0</td>\n",
       "      <td>0.0</td>\n",
       "    </tr>\n",
       "    <tr>\n",
       "      <th>3</th>\n",
       "      <td>329988</td>\n",
       "      <td>Pork Tenderloin Medallions With Fresh Figs</td>\n",
       "      <td>&lt; 15 Mins</td>\n",
       "      <td>203.0</td>\n",
       "      <td>74.8</td>\n",
       "      <td>1.5</td>\n",
       "      <td>0.6</td>\n",
       "      <td>23.3</td>\n",
       "      <td>4.0</td>\n",
       "      <td>1.0</td>\n",
       "    </tr>\n",
       "    <tr>\n",
       "      <th>4</th>\n",
       "      <td>59886</td>\n",
       "      <td>Kaseropita (Tiropita Using Kaseri Cheese)</td>\n",
       "      <td>Savory Pies</td>\n",
       "      <td>261.6</td>\n",
       "      <td>103.6</td>\n",
       "      <td>20.9</td>\n",
       "      <td>0.2</td>\n",
       "      <td>6.7</td>\n",
       "      <td>15.0</td>\n",
       "      <td>1.0</td>\n",
       "    </tr>\n",
       "    <tr>\n",
       "      <th>...</th>\n",
       "      <td>...</td>\n",
       "      <td>...</td>\n",
       "      <td>...</td>\n",
       "      <td>...</td>\n",
       "      <td>...</td>\n",
       "      <td>...</td>\n",
       "      <td>...</td>\n",
       "      <td>...</td>\n",
       "      <td>...</td>\n",
       "      <td>...</td>\n",
       "    </tr>\n",
       "    <tr>\n",
       "      <th>43087</th>\n",
       "      <td>22945</td>\n",
       "      <td>Yummy Meatloaf</td>\n",
       "      <td>Meat</td>\n",
       "      <td>281.5</td>\n",
       "      <td>111.3</td>\n",
       "      <td>13.2</td>\n",
       "      <td>11.1</td>\n",
       "      <td>25.3</td>\n",
       "      <td>6.0</td>\n",
       "      <td>1.0</td>\n",
       "    </tr>\n",
       "    <tr>\n",
       "      <th>43088</th>\n",
       "      <td>110033</td>\n",
       "      <td>Slow Cooker Shanks</td>\n",
       "      <td>Lamb/Sheep</td>\n",
       "      <td>697.2</td>\n",
       "      <td>242.1</td>\n",
       "      <td>3.8</td>\n",
       "      <td>1.9</td>\n",
       "      <td>72.9</td>\n",
       "      <td>4.0</td>\n",
       "      <td>0.0</td>\n",
       "    </tr>\n",
       "    <tr>\n",
       "      <th>43089</th>\n",
       "      <td>240945</td>\n",
       "      <td>Sin-Free Chocolate Chews</td>\n",
       "      <td>Drop Cookies</td>\n",
       "      <td>94.5</td>\n",
       "      <td>0.0</td>\n",
       "      <td>22.7</td>\n",
       "      <td>19.1</td>\n",
       "      <td>2.0</td>\n",
       "      <td>14.0</td>\n",
       "      <td>1.0</td>\n",
       "    </tr>\n",
       "    <tr>\n",
       "      <th>43090</th>\n",
       "      <td>164157</td>\n",
       "      <td>Montreal Salsa Chicken</td>\n",
       "      <td>Chicken Breast</td>\n",
       "      <td>207.1</td>\n",
       "      <td>72.6</td>\n",
       "      <td>20.1</td>\n",
       "      <td>12.7</td>\n",
       "      <td>24.9</td>\n",
       "      <td>4.0</td>\n",
       "      <td>1.0</td>\n",
       "    </tr>\n",
       "    <tr>\n",
       "      <th>43091</th>\n",
       "      <td>226759</td>\n",
       "      <td>Skinny Green Chili Chicken</td>\n",
       "      <td>Chicken Breast</td>\n",
       "      <td>296.4</td>\n",
       "      <td>47.4</td>\n",
       "      <td>24.4</td>\n",
       "      <td>3.9</td>\n",
       "      <td>15.2</td>\n",
       "      <td>3.0</td>\n",
       "      <td>1.0</td>\n",
       "    </tr>\n",
       "  </tbody>\n",
       "</table>\n",
       "<p>43092 rows × 10 columns</p>\n",
       "</div>"
      ],
      "text/plain": [
       "       RecipeId                                        Name  RecipeCategory  \\\n",
       "0         46085                 Crock Pot Baked Potato Soup   One Dish Meal   \n",
       "1         93832  Frittata Di Spaghetti (spaghetti Frittata)       Breakfast   \n",
       "2         36034                  Berries With Italian Cream         Dessert   \n",
       "3        329988  Pork Tenderloin Medallions With Fresh Figs       < 15 Mins   \n",
       "4         59886   Kaseropita (Tiropita Using Kaseri Cheese)     Savory Pies   \n",
       "...         ...                                         ...             ...   \n",
       "43087     22945                              Yummy Meatloaf            Meat   \n",
       "43088    110033                          Slow Cooker Shanks      Lamb/Sheep   \n",
       "43089    240945                    Sin-Free Chocolate Chews    Drop Cookies   \n",
       "43090    164157                      Montreal Salsa Chicken  Chicken Breast   \n",
       "43091    226759                  Skinny Green Chili Chicken  Chicken Breast   \n",
       "\n",
       "       Calories  CholesterolContent  CarbohydrateContent  SugarContent  \\\n",
       "0         699.8               137.3                 46.1           1.4   \n",
       "1         297.1               191.8                 11.7           0.7   \n",
       "2         131.9                23.3                 10.3           4.4   \n",
       "3         203.0                74.8                  1.5           0.6   \n",
       "4         261.6               103.6                 20.9           0.2   \n",
       "...         ...                 ...                  ...           ...   \n",
       "43087     281.5               111.3                 13.2          11.1   \n",
       "43088     697.2               242.1                  3.8           1.9   \n",
       "43089      94.5                 0.0                 22.7          19.1   \n",
       "43090     207.1                72.6                 20.1          12.7   \n",
       "43091     296.4                47.4                 24.4           3.9   \n",
       "\n",
       "       ProteinContent  RecipeServings  HighScore  \n",
       "0                20.9             6.0        1.0  \n",
       "1                12.2             8.0        1.0  \n",
       "2                 9.1             6.0        0.0  \n",
       "3                23.3             4.0        1.0  \n",
       "4                 6.7            15.0        1.0  \n",
       "...               ...             ...        ...  \n",
       "43087            25.3             6.0        1.0  \n",
       "43088            72.9             4.0        0.0  \n",
       "43089             2.0            14.0        1.0  \n",
       "43090            24.9             4.0        1.0  \n",
       "43091            15.2             3.0        1.0  \n",
       "\n",
       "[43092 rows x 10 columns]"
      ]
     },
     "execution_count": 3,
     "metadata": {},
     "output_type": "execute_result"
    }
   ],
   "source": [
    "data"
   ]
  },
  {
   "cell_type": "markdown",
   "metadata": {},
   "source": [
    "## Checking the counts of contents of the RecipeCategory column"
   ]
  },
  {
   "cell_type": "code",
   "execution_count": 4,
   "metadata": {},
   "outputs": [
    {
     "data": {
      "text/plain": [
       "Dessert              4211\n",
       "Lunch/Snacks         3271\n",
       "One Dish Meal        2895\n",
       "Vegetable            2497\n",
       "Breakfast            1969\n",
       "                     ... \n",
       "Black Bean Soup         1\n",
       "Ethiopian               1\n",
       "St. Patrick's Day       1\n",
       "Mushroom Soup           1\n",
       "Cambodian               1\n",
       "Name: RecipeCategory, Length: 246, dtype: int64"
      ]
     },
     "execution_count": 4,
     "metadata": {},
     "output_type": "execute_result"
    }
   ],
   "source": [
    "data['RecipeCategory'].value_counts()"
   ]
  },
  {
   "cell_type": "markdown",
   "metadata": {},
   "source": [
    "## Checking for null values"
   ]
  },
  {
   "cell_type": "code",
   "execution_count": 5,
   "metadata": {},
   "outputs": [
    {
     "data": {
      "text/plain": [
       "RecipeId                0\n",
       "Name                    0\n",
       "RecipeCategory         40\n",
       "Calories                0\n",
       "CholesterolContent      0\n",
       "CarbohydrateContent     0\n",
       "SugarContent            0\n",
       "ProteinContent          0\n",
       "RecipeServings          0\n",
       "HighScore               0\n",
       "dtype: int64"
      ]
     },
     "execution_count": 5,
     "metadata": {},
     "output_type": "execute_result"
    }
   ],
   "source": [
    "data.isnull().sum()"
   ]
  },
  {
   "cell_type": "markdown",
   "metadata": {},
   "source": [
    "## Dropping Null values to aid our analysis"
   ]
  },
  {
   "cell_type": "code",
   "execution_count": 6,
   "metadata": {},
   "outputs": [],
   "source": [
    "data = data.dropna(axis=0)"
   ]
  },
  {
   "cell_type": "markdown",
   "metadata": {},
   "source": [
    "## For any null values "
   ]
  },
  {
   "cell_type": "code",
   "execution_count": 7,
   "metadata": {},
   "outputs": [
    {
     "data": {
      "text/plain": [
       "RecipeId               0\n",
       "Name                   0\n",
       "RecipeCategory         0\n",
       "Calories               0\n",
       "CholesterolContent     0\n",
       "CarbohydrateContent    0\n",
       "SugarContent           0\n",
       "ProteinContent         0\n",
       "RecipeServings         0\n",
       "HighScore              0\n",
       "dtype: int64"
      ]
     },
     "execution_count": 7,
     "metadata": {},
     "output_type": "execute_result"
    }
   ],
   "source": [
    "data.isnull().sum()"
   ]
  },
  {
   "cell_type": "markdown",
   "metadata": {},
   "source": [
    "## Slicing the data to select features that are important for the analysis\n",
    "This is because the Name and RecipeId have large amounts of categoricals and will be tedious to one hot encode them"
   ]
  },
  {
   "cell_type": "code",
   "execution_count": 8,
   "metadata": {},
   "outputs": [],
   "source": [
    "data1 = data.iloc[:, 2:]"
   ]
  },
  {
   "cell_type": "code",
   "execution_count": 9,
   "metadata": {},
   "outputs": [
    {
     "data": {
      "text/html": [
       "<div>\n",
       "<style scoped>\n",
       "    .dataframe tbody tr th:only-of-type {\n",
       "        vertical-align: middle;\n",
       "    }\n",
       "\n",
       "    .dataframe tbody tr th {\n",
       "        vertical-align: top;\n",
       "    }\n",
       "\n",
       "    .dataframe thead th {\n",
       "        text-align: right;\n",
       "    }\n",
       "</style>\n",
       "<table border=\"1\" class=\"dataframe\">\n",
       "  <thead>\n",
       "    <tr style=\"text-align: right;\">\n",
       "      <th></th>\n",
       "      <th>RecipeCategory</th>\n",
       "      <th>Calories</th>\n",
       "      <th>CholesterolContent</th>\n",
       "      <th>CarbohydrateContent</th>\n",
       "      <th>SugarContent</th>\n",
       "      <th>ProteinContent</th>\n",
       "      <th>RecipeServings</th>\n",
       "      <th>HighScore</th>\n",
       "    </tr>\n",
       "  </thead>\n",
       "  <tbody>\n",
       "    <tr>\n",
       "      <th>0</th>\n",
       "      <td>One Dish Meal</td>\n",
       "      <td>699.8</td>\n",
       "      <td>137.3</td>\n",
       "      <td>46.1</td>\n",
       "      <td>1.4</td>\n",
       "      <td>20.9</td>\n",
       "      <td>6.0</td>\n",
       "      <td>1.0</td>\n",
       "    </tr>\n",
       "    <tr>\n",
       "      <th>1</th>\n",
       "      <td>Breakfast</td>\n",
       "      <td>297.1</td>\n",
       "      <td>191.8</td>\n",
       "      <td>11.7</td>\n",
       "      <td>0.7</td>\n",
       "      <td>12.2</td>\n",
       "      <td>8.0</td>\n",
       "      <td>1.0</td>\n",
       "    </tr>\n",
       "    <tr>\n",
       "      <th>2</th>\n",
       "      <td>Dessert</td>\n",
       "      <td>131.9</td>\n",
       "      <td>23.3</td>\n",
       "      <td>10.3</td>\n",
       "      <td>4.4</td>\n",
       "      <td>9.1</td>\n",
       "      <td>6.0</td>\n",
       "      <td>0.0</td>\n",
       "    </tr>\n",
       "    <tr>\n",
       "      <th>3</th>\n",
       "      <td>&lt; 15 Mins</td>\n",
       "      <td>203.0</td>\n",
       "      <td>74.8</td>\n",
       "      <td>1.5</td>\n",
       "      <td>0.6</td>\n",
       "      <td>23.3</td>\n",
       "      <td>4.0</td>\n",
       "      <td>1.0</td>\n",
       "    </tr>\n",
       "    <tr>\n",
       "      <th>4</th>\n",
       "      <td>Savory Pies</td>\n",
       "      <td>261.6</td>\n",
       "      <td>103.6</td>\n",
       "      <td>20.9</td>\n",
       "      <td>0.2</td>\n",
       "      <td>6.7</td>\n",
       "      <td>15.0</td>\n",
       "      <td>1.0</td>\n",
       "    </tr>\n",
       "    <tr>\n",
       "      <th>...</th>\n",
       "      <td>...</td>\n",
       "      <td>...</td>\n",
       "      <td>...</td>\n",
       "      <td>...</td>\n",
       "      <td>...</td>\n",
       "      <td>...</td>\n",
       "      <td>...</td>\n",
       "      <td>...</td>\n",
       "    </tr>\n",
       "    <tr>\n",
       "      <th>43087</th>\n",
       "      <td>Meat</td>\n",
       "      <td>281.5</td>\n",
       "      <td>111.3</td>\n",
       "      <td>13.2</td>\n",
       "      <td>11.1</td>\n",
       "      <td>25.3</td>\n",
       "      <td>6.0</td>\n",
       "      <td>1.0</td>\n",
       "    </tr>\n",
       "    <tr>\n",
       "      <th>43088</th>\n",
       "      <td>Lamb/Sheep</td>\n",
       "      <td>697.2</td>\n",
       "      <td>242.1</td>\n",
       "      <td>3.8</td>\n",
       "      <td>1.9</td>\n",
       "      <td>72.9</td>\n",
       "      <td>4.0</td>\n",
       "      <td>0.0</td>\n",
       "    </tr>\n",
       "    <tr>\n",
       "      <th>43089</th>\n",
       "      <td>Drop Cookies</td>\n",
       "      <td>94.5</td>\n",
       "      <td>0.0</td>\n",
       "      <td>22.7</td>\n",
       "      <td>19.1</td>\n",
       "      <td>2.0</td>\n",
       "      <td>14.0</td>\n",
       "      <td>1.0</td>\n",
       "    </tr>\n",
       "    <tr>\n",
       "      <th>43090</th>\n",
       "      <td>Chicken Breast</td>\n",
       "      <td>207.1</td>\n",
       "      <td>72.6</td>\n",
       "      <td>20.1</td>\n",
       "      <td>12.7</td>\n",
       "      <td>24.9</td>\n",
       "      <td>4.0</td>\n",
       "      <td>1.0</td>\n",
       "    </tr>\n",
       "    <tr>\n",
       "      <th>43091</th>\n",
       "      <td>Chicken Breast</td>\n",
       "      <td>296.4</td>\n",
       "      <td>47.4</td>\n",
       "      <td>24.4</td>\n",
       "      <td>3.9</td>\n",
       "      <td>15.2</td>\n",
       "      <td>3.0</td>\n",
       "      <td>1.0</td>\n",
       "    </tr>\n",
       "  </tbody>\n",
       "</table>\n",
       "<p>43052 rows × 8 columns</p>\n",
       "</div>"
      ],
      "text/plain": [
       "       RecipeCategory  Calories  CholesterolContent  CarbohydrateContent  \\\n",
       "0       One Dish Meal     699.8               137.3                 46.1   \n",
       "1           Breakfast     297.1               191.8                 11.7   \n",
       "2             Dessert     131.9                23.3                 10.3   \n",
       "3           < 15 Mins     203.0                74.8                  1.5   \n",
       "4         Savory Pies     261.6               103.6                 20.9   \n",
       "...               ...       ...                 ...                  ...   \n",
       "43087            Meat     281.5               111.3                 13.2   \n",
       "43088      Lamb/Sheep     697.2               242.1                  3.8   \n",
       "43089    Drop Cookies      94.5                 0.0                 22.7   \n",
       "43090  Chicken Breast     207.1                72.6                 20.1   \n",
       "43091  Chicken Breast     296.4                47.4                 24.4   \n",
       "\n",
       "       SugarContent  ProteinContent  RecipeServings  HighScore  \n",
       "0               1.4            20.9             6.0        1.0  \n",
       "1               0.7            12.2             8.0        1.0  \n",
       "2               4.4             9.1             6.0        0.0  \n",
       "3               0.6            23.3             4.0        1.0  \n",
       "4               0.2             6.7            15.0        1.0  \n",
       "...             ...             ...             ...        ...  \n",
       "43087          11.1            25.3             6.0        1.0  \n",
       "43088           1.9            72.9             4.0        0.0  \n",
       "43089          19.1             2.0            14.0        1.0  \n",
       "43090          12.7            24.9             4.0        1.0  \n",
       "43091           3.9            15.2             3.0        1.0  \n",
       "\n",
       "[43052 rows x 8 columns]"
      ]
     },
     "execution_count": 9,
     "metadata": {},
     "output_type": "execute_result"
    }
   ],
   "source": [
    "data1"
   ]
  },
  {
   "cell_type": "markdown",
   "metadata": {},
   "source": [
    "## Final checking of the dataframe that will be used for model development"
   ]
  },
  {
   "cell_type": "code",
   "execution_count": 10,
   "metadata": {},
   "outputs": [
    {
     "name": "stdout",
     "output_type": "stream",
     "text": [
      "<class 'pandas.core.frame.DataFrame'>\n",
      "Int64Index: 43052 entries, 0 to 43091\n",
      "Data columns (total 8 columns):\n",
      " #   Column               Non-Null Count  Dtype  \n",
      "---  ------               --------------  -----  \n",
      " 0   RecipeCategory       43052 non-null  object \n",
      " 1   Calories             43052 non-null  float64\n",
      " 2   CholesterolContent   43052 non-null  float64\n",
      " 3   CarbohydrateContent  43052 non-null  float64\n",
      " 4   SugarContent         43052 non-null  float64\n",
      " 5   ProteinContent       43052 non-null  float64\n",
      " 6   RecipeServings       43052 non-null  float64\n",
      " 7   HighScore            43052 non-null  float64\n",
      "dtypes: float64(7), object(1)\n",
      "memory usage: 3.0+ MB\n"
     ]
    }
   ],
   "source": [
    "data1.info()"
   ]
  },
  {
   "cell_type": "markdown",
   "metadata": {},
   "source": [
    "## One Hot encoding the categorical column using pandas get dummies"
   ]
  },
  {
   "cell_type": "code",
   "execution_count": 11,
   "metadata": {},
   "outputs": [],
   "source": [
    "get_dummy_data = pd.get_dummies(data1)"
   ]
  },
  {
   "cell_type": "code",
   "execution_count": 12,
   "metadata": {},
   "outputs": [
    {
     "data": {
      "text/html": [
       "<div>\n",
       "<style scoped>\n",
       "    .dataframe tbody tr th:only-of-type {\n",
       "        vertical-align: middle;\n",
       "    }\n",
       "\n",
       "    .dataframe tbody tr th {\n",
       "        vertical-align: top;\n",
       "    }\n",
       "\n",
       "    .dataframe thead th {\n",
       "        text-align: right;\n",
       "    }\n",
       "</style>\n",
       "<table border=\"1\" class=\"dataframe\">\n",
       "  <thead>\n",
       "    <tr style=\"text-align: right;\">\n",
       "      <th></th>\n",
       "      <th>Calories</th>\n",
       "      <th>CholesterolContent</th>\n",
       "      <th>CarbohydrateContent</th>\n",
       "      <th>SugarContent</th>\n",
       "      <th>ProteinContent</th>\n",
       "      <th>RecipeServings</th>\n",
       "      <th>HighScore</th>\n",
       "      <th>RecipeCategory_&lt; 15 Mins</th>\n",
       "      <th>RecipeCategory_&lt; 30 Mins</th>\n",
       "      <th>RecipeCategory_&lt; 4 Hours</th>\n",
       "      <th>...</th>\n",
       "      <th>RecipeCategory_Welsh</th>\n",
       "      <th>RecipeCategory_White Rice</th>\n",
       "      <th>RecipeCategory_Whitefish</th>\n",
       "      <th>RecipeCategory_Whole Chicken</th>\n",
       "      <th>RecipeCategory_Whole Duck</th>\n",
       "      <th>RecipeCategory_Whole Turkey</th>\n",
       "      <th>RecipeCategory_Wild Game</th>\n",
       "      <th>RecipeCategory_Winter</th>\n",
       "      <th>RecipeCategory_Yam/Sweet Potato</th>\n",
       "      <th>RecipeCategory_Yeast Breads</th>\n",
       "    </tr>\n",
       "  </thead>\n",
       "  <tbody>\n",
       "    <tr>\n",
       "      <th>0</th>\n",
       "      <td>699.8</td>\n",
       "      <td>137.3</td>\n",
       "      <td>46.1</td>\n",
       "      <td>1.4</td>\n",
       "      <td>20.9</td>\n",
       "      <td>6.0</td>\n",
       "      <td>1.0</td>\n",
       "      <td>0</td>\n",
       "      <td>0</td>\n",
       "      <td>0</td>\n",
       "      <td>...</td>\n",
       "      <td>0</td>\n",
       "      <td>0</td>\n",
       "      <td>0</td>\n",
       "      <td>0</td>\n",
       "      <td>0</td>\n",
       "      <td>0</td>\n",
       "      <td>0</td>\n",
       "      <td>0</td>\n",
       "      <td>0</td>\n",
       "      <td>0</td>\n",
       "    </tr>\n",
       "    <tr>\n",
       "      <th>1</th>\n",
       "      <td>297.1</td>\n",
       "      <td>191.8</td>\n",
       "      <td>11.7</td>\n",
       "      <td>0.7</td>\n",
       "      <td>12.2</td>\n",
       "      <td>8.0</td>\n",
       "      <td>1.0</td>\n",
       "      <td>0</td>\n",
       "      <td>0</td>\n",
       "      <td>0</td>\n",
       "      <td>...</td>\n",
       "      <td>0</td>\n",
       "      <td>0</td>\n",
       "      <td>0</td>\n",
       "      <td>0</td>\n",
       "      <td>0</td>\n",
       "      <td>0</td>\n",
       "      <td>0</td>\n",
       "      <td>0</td>\n",
       "      <td>0</td>\n",
       "      <td>0</td>\n",
       "    </tr>\n",
       "    <tr>\n",
       "      <th>2</th>\n",
       "      <td>131.9</td>\n",
       "      <td>23.3</td>\n",
       "      <td>10.3</td>\n",
       "      <td>4.4</td>\n",
       "      <td>9.1</td>\n",
       "      <td>6.0</td>\n",
       "      <td>0.0</td>\n",
       "      <td>0</td>\n",
       "      <td>0</td>\n",
       "      <td>0</td>\n",
       "      <td>...</td>\n",
       "      <td>0</td>\n",
       "      <td>0</td>\n",
       "      <td>0</td>\n",
       "      <td>0</td>\n",
       "      <td>0</td>\n",
       "      <td>0</td>\n",
       "      <td>0</td>\n",
       "      <td>0</td>\n",
       "      <td>0</td>\n",
       "      <td>0</td>\n",
       "    </tr>\n",
       "    <tr>\n",
       "      <th>3</th>\n",
       "      <td>203.0</td>\n",
       "      <td>74.8</td>\n",
       "      <td>1.5</td>\n",
       "      <td>0.6</td>\n",
       "      <td>23.3</td>\n",
       "      <td>4.0</td>\n",
       "      <td>1.0</td>\n",
       "      <td>1</td>\n",
       "      <td>0</td>\n",
       "      <td>0</td>\n",
       "      <td>...</td>\n",
       "      <td>0</td>\n",
       "      <td>0</td>\n",
       "      <td>0</td>\n",
       "      <td>0</td>\n",
       "      <td>0</td>\n",
       "      <td>0</td>\n",
       "      <td>0</td>\n",
       "      <td>0</td>\n",
       "      <td>0</td>\n",
       "      <td>0</td>\n",
       "    </tr>\n",
       "    <tr>\n",
       "      <th>4</th>\n",
       "      <td>261.6</td>\n",
       "      <td>103.6</td>\n",
       "      <td>20.9</td>\n",
       "      <td>0.2</td>\n",
       "      <td>6.7</td>\n",
       "      <td>15.0</td>\n",
       "      <td>1.0</td>\n",
       "      <td>0</td>\n",
       "      <td>0</td>\n",
       "      <td>0</td>\n",
       "      <td>...</td>\n",
       "      <td>0</td>\n",
       "      <td>0</td>\n",
       "      <td>0</td>\n",
       "      <td>0</td>\n",
       "      <td>0</td>\n",
       "      <td>0</td>\n",
       "      <td>0</td>\n",
       "      <td>0</td>\n",
       "      <td>0</td>\n",
       "      <td>0</td>\n",
       "    </tr>\n",
       "    <tr>\n",
       "      <th>...</th>\n",
       "      <td>...</td>\n",
       "      <td>...</td>\n",
       "      <td>...</td>\n",
       "      <td>...</td>\n",
       "      <td>...</td>\n",
       "      <td>...</td>\n",
       "      <td>...</td>\n",
       "      <td>...</td>\n",
       "      <td>...</td>\n",
       "      <td>...</td>\n",
       "      <td>...</td>\n",
       "      <td>...</td>\n",
       "      <td>...</td>\n",
       "      <td>...</td>\n",
       "      <td>...</td>\n",
       "      <td>...</td>\n",
       "      <td>...</td>\n",
       "      <td>...</td>\n",
       "      <td>...</td>\n",
       "      <td>...</td>\n",
       "      <td>...</td>\n",
       "    </tr>\n",
       "    <tr>\n",
       "      <th>43087</th>\n",
       "      <td>281.5</td>\n",
       "      <td>111.3</td>\n",
       "      <td>13.2</td>\n",
       "      <td>11.1</td>\n",
       "      <td>25.3</td>\n",
       "      <td>6.0</td>\n",
       "      <td>1.0</td>\n",
       "      <td>0</td>\n",
       "      <td>0</td>\n",
       "      <td>0</td>\n",
       "      <td>...</td>\n",
       "      <td>0</td>\n",
       "      <td>0</td>\n",
       "      <td>0</td>\n",
       "      <td>0</td>\n",
       "      <td>0</td>\n",
       "      <td>0</td>\n",
       "      <td>0</td>\n",
       "      <td>0</td>\n",
       "      <td>0</td>\n",
       "      <td>0</td>\n",
       "    </tr>\n",
       "    <tr>\n",
       "      <th>43088</th>\n",
       "      <td>697.2</td>\n",
       "      <td>242.1</td>\n",
       "      <td>3.8</td>\n",
       "      <td>1.9</td>\n",
       "      <td>72.9</td>\n",
       "      <td>4.0</td>\n",
       "      <td>0.0</td>\n",
       "      <td>0</td>\n",
       "      <td>0</td>\n",
       "      <td>0</td>\n",
       "      <td>...</td>\n",
       "      <td>0</td>\n",
       "      <td>0</td>\n",
       "      <td>0</td>\n",
       "      <td>0</td>\n",
       "      <td>0</td>\n",
       "      <td>0</td>\n",
       "      <td>0</td>\n",
       "      <td>0</td>\n",
       "      <td>0</td>\n",
       "      <td>0</td>\n",
       "    </tr>\n",
       "    <tr>\n",
       "      <th>43089</th>\n",
       "      <td>94.5</td>\n",
       "      <td>0.0</td>\n",
       "      <td>22.7</td>\n",
       "      <td>19.1</td>\n",
       "      <td>2.0</td>\n",
       "      <td>14.0</td>\n",
       "      <td>1.0</td>\n",
       "      <td>0</td>\n",
       "      <td>0</td>\n",
       "      <td>0</td>\n",
       "      <td>...</td>\n",
       "      <td>0</td>\n",
       "      <td>0</td>\n",
       "      <td>0</td>\n",
       "      <td>0</td>\n",
       "      <td>0</td>\n",
       "      <td>0</td>\n",
       "      <td>0</td>\n",
       "      <td>0</td>\n",
       "      <td>0</td>\n",
       "      <td>0</td>\n",
       "    </tr>\n",
       "    <tr>\n",
       "      <th>43090</th>\n",
       "      <td>207.1</td>\n",
       "      <td>72.6</td>\n",
       "      <td>20.1</td>\n",
       "      <td>12.7</td>\n",
       "      <td>24.9</td>\n",
       "      <td>4.0</td>\n",
       "      <td>1.0</td>\n",
       "      <td>0</td>\n",
       "      <td>0</td>\n",
       "      <td>0</td>\n",
       "      <td>...</td>\n",
       "      <td>0</td>\n",
       "      <td>0</td>\n",
       "      <td>0</td>\n",
       "      <td>0</td>\n",
       "      <td>0</td>\n",
       "      <td>0</td>\n",
       "      <td>0</td>\n",
       "      <td>0</td>\n",
       "      <td>0</td>\n",
       "      <td>0</td>\n",
       "    </tr>\n",
       "    <tr>\n",
       "      <th>43091</th>\n",
       "      <td>296.4</td>\n",
       "      <td>47.4</td>\n",
       "      <td>24.4</td>\n",
       "      <td>3.9</td>\n",
       "      <td>15.2</td>\n",
       "      <td>3.0</td>\n",
       "      <td>1.0</td>\n",
       "      <td>0</td>\n",
       "      <td>0</td>\n",
       "      <td>0</td>\n",
       "      <td>...</td>\n",
       "      <td>0</td>\n",
       "      <td>0</td>\n",
       "      <td>0</td>\n",
       "      <td>0</td>\n",
       "      <td>0</td>\n",
       "      <td>0</td>\n",
       "      <td>0</td>\n",
       "      <td>0</td>\n",
       "      <td>0</td>\n",
       "      <td>0</td>\n",
       "    </tr>\n",
       "  </tbody>\n",
       "</table>\n",
       "<p>43052 rows × 253 columns</p>\n",
       "</div>"
      ],
      "text/plain": [
       "       Calories  CholesterolContent  CarbohydrateContent  SugarContent  \\\n",
       "0         699.8               137.3                 46.1           1.4   \n",
       "1         297.1               191.8                 11.7           0.7   \n",
       "2         131.9                23.3                 10.3           4.4   \n",
       "3         203.0                74.8                  1.5           0.6   \n",
       "4         261.6               103.6                 20.9           0.2   \n",
       "...         ...                 ...                  ...           ...   \n",
       "43087     281.5               111.3                 13.2          11.1   \n",
       "43088     697.2               242.1                  3.8           1.9   \n",
       "43089      94.5                 0.0                 22.7          19.1   \n",
       "43090     207.1                72.6                 20.1          12.7   \n",
       "43091     296.4                47.4                 24.4           3.9   \n",
       "\n",
       "       ProteinContent  RecipeServings  HighScore  RecipeCategory_< 15 Mins  \\\n",
       "0                20.9             6.0        1.0                         0   \n",
       "1                12.2             8.0        1.0                         0   \n",
       "2                 9.1             6.0        0.0                         0   \n",
       "3                23.3             4.0        1.0                         1   \n",
       "4                 6.7            15.0        1.0                         0   \n",
       "...               ...             ...        ...                       ...   \n",
       "43087            25.3             6.0        1.0                         0   \n",
       "43088            72.9             4.0        0.0                         0   \n",
       "43089             2.0            14.0        1.0                         0   \n",
       "43090            24.9             4.0        1.0                         0   \n",
       "43091            15.2             3.0        1.0                         0   \n",
       "\n",
       "       RecipeCategory_< 30 Mins  RecipeCategory_< 4 Hours  ...  \\\n",
       "0                             0                         0  ...   \n",
       "1                             0                         0  ...   \n",
       "2                             0                         0  ...   \n",
       "3                             0                         0  ...   \n",
       "4                             0                         0  ...   \n",
       "...                         ...                       ...  ...   \n",
       "43087                         0                         0  ...   \n",
       "43088                         0                         0  ...   \n",
       "43089                         0                         0  ...   \n",
       "43090                         0                         0  ...   \n",
       "43091                         0                         0  ...   \n",
       "\n",
       "       RecipeCategory_Welsh  RecipeCategory_White Rice  \\\n",
       "0                         0                          0   \n",
       "1                         0                          0   \n",
       "2                         0                          0   \n",
       "3                         0                          0   \n",
       "4                         0                          0   \n",
       "...                     ...                        ...   \n",
       "43087                     0                          0   \n",
       "43088                     0                          0   \n",
       "43089                     0                          0   \n",
       "43090                     0                          0   \n",
       "43091                     0                          0   \n",
       "\n",
       "       RecipeCategory_Whitefish  RecipeCategory_Whole Chicken  \\\n",
       "0                             0                             0   \n",
       "1                             0                             0   \n",
       "2                             0                             0   \n",
       "3                             0                             0   \n",
       "4                             0                             0   \n",
       "...                         ...                           ...   \n",
       "43087                         0                             0   \n",
       "43088                         0                             0   \n",
       "43089                         0                             0   \n",
       "43090                         0                             0   \n",
       "43091                         0                             0   \n",
       "\n",
       "       RecipeCategory_Whole Duck  RecipeCategory_Whole Turkey  \\\n",
       "0                              0                            0   \n",
       "1                              0                            0   \n",
       "2                              0                            0   \n",
       "3                              0                            0   \n",
       "4                              0                            0   \n",
       "...                          ...                          ...   \n",
       "43087                          0                            0   \n",
       "43088                          0                            0   \n",
       "43089                          0                            0   \n",
       "43090                          0                            0   \n",
       "43091                          0                            0   \n",
       "\n",
       "       RecipeCategory_Wild Game  RecipeCategory_Winter  \\\n",
       "0                             0                      0   \n",
       "1                             0                      0   \n",
       "2                             0                      0   \n",
       "3                             0                      0   \n",
       "4                             0                      0   \n",
       "...                         ...                    ...   \n",
       "43087                         0                      0   \n",
       "43088                         0                      0   \n",
       "43089                         0                      0   \n",
       "43090                         0                      0   \n",
       "43091                         0                      0   \n",
       "\n",
       "       RecipeCategory_Yam/Sweet Potato  RecipeCategory_Yeast Breads  \n",
       "0                                    0                            0  \n",
       "1                                    0                            0  \n",
       "2                                    0                            0  \n",
       "3                                    0                            0  \n",
       "4                                    0                            0  \n",
       "...                                ...                          ...  \n",
       "43087                                0                            0  \n",
       "43088                                0                            0  \n",
       "43089                                0                            0  \n",
       "43090                                0                            0  \n",
       "43091                                0                            0  \n",
       "\n",
       "[43052 rows x 253 columns]"
      ]
     },
     "execution_count": 12,
     "metadata": {},
     "output_type": "execute_result"
    }
   ],
   "source": [
    "get_dummy_data"
   ]
  },
  {
   "cell_type": "markdown",
   "metadata": {},
   "source": [
    "## Extacting the values that will be fitted to our model"
   ]
  },
  {
   "cell_type": "code",
   "execution_count": 13,
   "metadata": {},
   "outputs": [],
   "source": [
    "X = get_dummy_data.drop('HighScore', axis = 1).values\n",
    "y = get_dummy_data['HighScore'].values"
   ]
  },
  {
   "cell_type": "markdown",
   "metadata": {},
   "source": [
    "## Plotting our classification labels"
   ]
  },
  {
   "cell_type": "code",
   "execution_count": 14,
   "metadata": {},
   "outputs": [
    {
     "name": "stderr",
     "output_type": "stream",
     "text": [
      "C:\\Users\\Anselem\\anaconda3\\lib\\site-packages\\seaborn\\_decorators.py:36: FutureWarning: Pass the following variable as a keyword arg: x. From version 0.12, the only valid positional argument will be `data`, and passing other arguments without an explicit keyword will result in an error or misinterpretation.\n",
      "  warnings.warn(\n"
     ]
    },
    {
     "data": {
      "image/png": "[encoded data removed]",
      "text/plain": [
       "<Figure size 432x288 with 1 Axes>"
      ]
     },
     "metadata": {
      "needs_background": "light"
     },
     "output_type": "display_data"
    }
   ],
   "source": [
    "plot = sns.countplot(get_dummy_data['HighScore'])\n",
    "\n",
    "for p in plot.patches:\n",
    "    plot.annotate(str(p.get_height()), (p.get_x()*1.0, p.get_height()* 1.0))\n",
    "plt.xticks(rotation = 90)\n",
    "plt.title('HighScores')\n",
    "plt.show()"
   ]
  },
  {
   "cell_type": "markdown",
   "metadata": {},
   "source": [
    "## Splitting our data for modeling"
   ]
  },
  {
   "cell_type": "code",
   "execution_count": 15,
   "metadata": {},
   "outputs": [],
   "source": [
    "X_train, X_test, y_train, y_test = train_test_split(X, y, test_size = 0.2, random_state = 0)"
   ]
  },
  {
   "cell_type": "markdown",
   "metadata": {},
   "source": [
    "## Scaling our data"
   ]
  },
  {
   "cell_type": "code",
   "execution_count": 16,
   "metadata": {},
   "outputs": [],
   "source": [
    "# Feature Scaling\n",
    "sc = StandardScaler()\n",
    "X_train = sc.fit_transform(X_train)\n",
    "X_test = sc.transform(X_test)"
   ]
  },
  {
   "cell_type": "markdown",
   "metadata": {},
   "source": [
    "## Fitting our scaled data on a logistic regression model and checking the accuracy"
   ]
  },
  {
   "cell_type": "code",
   "execution_count": 17,
   "metadata": {},
   "outputs": [
    {
     "data": {
      "text/plain": [
       "0.6467309255603299"
      ]
     },
     "execution_count": 17,
     "metadata": {},
     "output_type": "execute_result"
    }
   ],
   "source": [
    "lg = LogisticRegression(solver=\"liblinear\")\n",
    "model1 = lg.fit(X_train, y_train)\n",
    "y_pred1 = model1.predict(X_test)\n",
    "model1.score(X_test, y_test)"
   ]
  },
  {
   "cell_type": "markdown",
   "metadata": {},
   "source": [
    "## Fitting our data on a RandomForestClassifier model and checking the accuracy"
   ]
  },
  {
   "cell_type": "code",
   "execution_count": 18,
   "metadata": {},
   "outputs": [
    {
     "data": {
      "text/plain": [
       "0.6332597839972128"
      ]
     },
     "execution_count": 18,
     "metadata": {},
     "output_type": "execute_result"
    }
   ],
   "source": [
    "rd = RandomForestClassifier(n_estimators=375, random_state=42)\n",
    "model2 = rd.fit(X_train, y_train)\n",
    "y_pred2 = model2.predict(X_test)\n",
    "model2.score(X_test, y_test)"
   ]
  },
  {
   "cell_type": "markdown",
   "metadata": {},
   "source": [
    "## Balancing our data to even the labels\n",
    "Due inbalancing of our data we have to use the smote technic to balance the labels"
   ]
  },
  {
   "cell_type": "code",
   "execution_count": 19,
   "metadata": {},
   "outputs": [
    {
     "name": "stdout",
     "output_type": "stream",
     "text": [
      "Counter({1.0: 27798, 0.0: 27798})\n"
     ]
    }
   ],
   "source": [
    "oversample = SMOTE()\n",
    "X1, y1 = oversample.fit_resample(X, y)\n",
    "# summarize the new class distribution\n",
    "counter1 = Counter(y1)\n",
    "print(counter1)"
   ]
  },
  {
   "cell_type": "markdown",
   "metadata": {},
   "source": [
    "## Splitting our balanced data"
   ]
  },
  {
   "cell_type": "code",
   "execution_count": 20,
   "metadata": {},
   "outputs": [],
   "source": [
    "X1_train, X1_test, y1_train, y1_test = train_test_split(X1, y1, test_size = 0.2, random_state = 0)"
   ]
  },
  {
   "cell_type": "markdown",
   "metadata": {},
   "source": [
    "## Fitting our balanced unscaled data on our logistic regression model and checking the accuracy"
   ]
  },
  {
   "cell_type": "code",
   "execution_count": 21,
   "metadata": {},
   "outputs": [
    {
     "data": {
      "text/plain": [
       "0.5428057553956834"
      ]
     },
     "execution_count": 21,
     "metadata": {},
     "output_type": "execute_result"
    }
   ],
   "source": [
    "lg2 = LogisticRegression(solver=\"liblinear\")\n",
    "model1 = lg2.fit(X1_train, y1_train)\n",
    "y_pred1 = lg2.predict(X1_test)\n",
    "model1.score(X1_test, y1_test)"
   ]
  },
  {
   "cell_type": "markdown",
   "metadata": {},
   "source": [
    "## Fitting our balanced unscaled data on our Random forest model and checking the accuracy"
   ]
  },
  {
   "cell_type": "code",
   "execution_count": 22,
   "metadata": {},
   "outputs": [
    {
     "data": {
      "text/plain": [
       "0.7074640287769784"
      ]
     },
     "execution_count": 22,
     "metadata": {},
     "output_type": "execute_result"
    }
   ],
   "source": [
    "rdf = RandomForestClassifier(n_estimators=500, random_state=42)\n",
    "rdf = rdf.fit(X1_train, y1_train)\n",
    "y_pred4 = rdf.predict(X1_test)\n",
    "rdf.score(X1_test, y1_test)"
   ]
  },
  {
   "cell_type": "markdown",
   "metadata": {},
   "source": [
    "## Checking confusion matrix values for our Random forest model model\n",
    "Since Randomforest classifier out perform logistic regression we decided to explore it metrics further"
   ]
  },
  {
   "cell_type": "code",
   "execution_count": 23,
   "metadata": {},
   "outputs": [
    {
     "name": "stdout",
     "output_type": "stream",
     "text": [
      "[[3253 2333]\n",
      " [ 920 4614]]\n"
     ]
    }
   ],
   "source": [
    "cm = confusion_matrix(y1_test, y_pred4)\n",
    "print(cm)"
   ]
  },
  {
   "cell_type": "markdown",
   "metadata": {},
   "source": [
    "## Checking the accuracy of our model using classification_report\n",
    "As the case study is a  supervised classification problem, we decided to use classification report to check for classification \\\n",
    "metrics such as precision, recall, f1.score. "
   ]
  },
  {
   "cell_type": "code",
   "execution_count": 24,
   "metadata": {},
   "outputs": [
    {
     "name": "stdout",
     "output_type": "stream",
     "text": [
      "              precision    recall  f1-score   support\n",
      "\n",
      "     class 0       0.78      0.58      0.67      5586\n",
      "     class 1       0.66      0.83      0.74      5534\n",
      "\n",
      "    accuracy                           0.71     11120\n",
      "   macro avg       0.72      0.71      0.70     11120\n",
      "weighted avg       0.72      0.71      0.70     11120\n",
      "\n"
     ]
    }
   ],
   "source": [
    "target_names = ['class 0', 'class 1']\n",
    "class_rep = classification_report(y1_test, y_pred4, target_names = target_names)\n",
    "print(class_rep)"
   ]
  },
  {
   "cell_type": "markdown",
   "metadata": {},
   "source": [
    "## Accuracy of our best random forest regression model"
   ]
  },
  {
   "cell_type": "code",
   "execution_count": 25,
   "metadata": {},
   "outputs": [
    {
     "name": "stdout",
     "output_type": "stream",
     "text": [
      "0.7074640287769784\n"
     ]
    }
   ],
   "source": [
    "print(accuracy_score(y1_test, y_pred4))"
   ]
  },
  {
   "cell_type": "markdown",
   "metadata": {},
   "source": [
    "## Plotting the confusion matrix of our best random forest regression model on a visual format"
   ]
  },
  {
   "cell_type": "code",
   "execution_count": 26,
   "metadata": {},
   "outputs": [
    {
     "data": {
      "text/plain": [
       "<sklearn.metrics._plot.confusion_matrix.ConfusionMatrixDisplay at 0x241018d5400>"
      ]
     },
     "execution_count": 26,
     "metadata": {},
     "output_type": "execute_result"
    },
    {
     "data": {
      "image/png": "[encoded data removed]",
      "text/plain": [
       "<Figure size 432x288 with 2 Axes>"
      ]
     },
     "metadata": {
      "needs_background": "light"
     },
     "output_type": "display_data"
    }
   ],
   "source": [
    "plot_confusion_matrix(rdf, X1_test, y1_test)"
   ]
  },
  {
   "cell_type": "markdown",
   "metadata": {},
   "source": [
    "## Plotting the ROC_AUC curve"
   ]
  },
  {
   "cell_type": "code",
   "execution_count": 27,
   "metadata": {},
   "outputs": [
    {
     "name": "stdout",
     "output_type": "stream",
     "text": [
      "No Skill: ROC AUC=0.500\n",
      "Random Forest Classifier: ROC AUC=0.764\n"
     ]
    },
    {
     "data": {
      "image/png": "[encoded data removed]",
      "text/plain": [
       "<Figure size 432x288 with 1 Axes>"
      ]
     },
     "metadata": {
      "needs_background": "light"
     },
     "output_type": "display_data"
    }
   ],
   "source": [
    "ns_probs = [0 for _ in range(len(X1_test))]\n",
    "lr_probs = rdf.predict_proba(X1_test)\n",
    "lr_probs = lr_probs[:,1]\n",
    "ns_auc = roc_auc_score(y1_test, ns_probs)\n",
    "lr_auc = roc_auc_score(y1_test, lr_probs)\n",
    "# summarize scores\n",
    "print('No Skill: ROC AUC=%.3f' % (ns_auc))\n",
    "print('Random Forest Classifier: ROC AUC=%.3f' % (lr_auc))\n",
    "# calculate roc curves\n",
    "ns_fpr, ns_tpr, _ = roc_curve(y1_test, ns_probs)\n",
    "lr_fpr, lr_tpr, _ = roc_curve(y1_test, lr_probs)\n",
    "# plot the roc curve for the model\n",
    "plt.plot(ns_fpr, ns_tpr, linestyle='--', label='No Skill')\n",
    "plt.plot(lr_fpr, lr_tpr, marker='.', label='Random Forest Classifier')\n",
    "# axis labels\n",
    "plt.xlabel('False Positive Rate')\n",
    "plt.ylabel('True Positive Rate')\n",
    "plt.title('ROC_Curve')\n",
    "# show the legend\n",
    "plt.legend()\n",
    "# show the plot\n",
    "plt.show()"
   ]
  },
  {
   "cell_type": "markdown",
   "metadata": {},
   "source": [
    "## Trying hyperparameter tuning to see if we can improve on the accuracy."
   ]
  },
  {
   "cell_type": "code",
   "execution_count": 28,
   "metadata": {},
   "outputs": [],
   "source": [
    "param_grid = { \n",
    "    'n_estimators': [200, 500],\n",
    "    'max_features': ['auto', 'sqrt', 'log2'],\n",
    "    'max_depth' : [4,5,6,7,8]\n",
    "}"
   ]
  },
  {
   "cell_type": "markdown",
   "metadata": {},
   "source": [
    "## Implementing a Grid Search Cross Validation to improve accuracy"
   ]
  },
  {
   "cell_type": "code",
   "execution_count": 29,
   "metadata": {},
   "outputs": [],
   "source": [
    "rcf = RandomForestClassifier()\n",
    "CV_rfc = GridSearchCV(estimator=rcf, param_grid=param_grid, cv= 3, scoring = \"accuracy\")"
   ]
  },
  {
   "cell_type": "markdown",
   "metadata": {},
   "source": [
    "## Fitting the Grid Search CV on Random Forest Classifier"
   ]
  },
  {
   "cell_type": "code",
   "execution_count": 30,
   "metadata": {},
   "outputs": [
    {
     "data": {
      "text/plain": [
       "GridSearchCV(cv=3, estimator=RandomForestClassifier(),\n",
       "             param_grid={'max_depth': [4, 5, 6, 7, 8],\n",
       "                         'max_features': ['auto', 'sqrt', 'log2'],\n",
       "                         'n_estimators': [200, 500]},\n",
       "             scoring='accuracy')"
      ]
     },
     "execution_count": 30,
     "metadata": {},
     "output_type": "execute_result"
    }
   ],
   "source": [
    "CV_rfc.fit(X_train, y_train)"
   ]
  },
  {
   "cell_type": "markdown",
   "metadata": {},
   "source": [
    "## Checking the best params for Random Forest with grid search Cross validation"
   ]
  },
  {
   "cell_type": "code",
   "execution_count": 31,
   "metadata": {},
   "outputs": [
    {
     "data": {
      "text/plain": [
       "{'max_depth': 4, 'max_features': 'auto', 'n_estimators': 200}"
      ]
     },
     "execution_count": 31,
     "metadata": {},
     "output_type": "execute_result"
    }
   ],
   "source": [
    "CV_rfc.best_params_"
   ]
  },
  {
   "cell_type": "markdown",
   "metadata": {},
   "source": [
    "## Checking the best score for on Random Forest with grid search Cross Validation"
   ]
  },
  {
   "cell_type": "code",
   "execution_count": 32,
   "metadata": {},
   "outputs": [
    {
     "data": {
      "text/plain": [
       "0.6451322545626815"
      ]
     },
     "execution_count": 32,
     "metadata": {},
     "output_type": "execute_result"
    }
   ],
   "source": [
    "CV_rfc.best_score_"
   ]
  }
 ],
 "metadata": {
  "colab": {
   "name": "Welcome to DataCamp Workspaces.ipynb",
   "provenance": []
  },
  "kernelspec": {
   "display_name": "Python 3",
   "language": "python",
   "name": "python3"
  },
  "language_info": {
   "codemirror_mode": {
    "name": "ipython",
    "version": 3
   },
   "file_extension": ".py",
   "mimetype": "text/x-python",
   "name": "python",
   "nbconvert_exporter": "python",
   "pygments_lexer": "ipython3",
   "version": "3.8.5"
  }
 },
 "nbformat": 4,
 "nbformat_minor": 4
}
